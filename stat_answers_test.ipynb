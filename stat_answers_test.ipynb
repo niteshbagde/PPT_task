{
 "cells": [
  {
   "attachments": {},
   "cell_type": "markdown",
   "metadata": {},
   "source": [
    "1. A university wants to understand the relationship between the SAT scores of its\n",
    "applicants and their college GPA. They collect data on 500 students, including their SAT\n",
    "scores (out of 1600) and their college GPA (on a 4.0 scale). They find that the correlation\n",
    "coefficient between SAT scores and college GPA is 0.7. What does this correlation\n",
    "coefficient indicate about the relationship between SAT scores and college GPA?"
   ]
  },
  {
   "cell_type": "code",
   "execution_count": 2,
   "metadata": {},
   "outputs": [
    {
     "data": {
      "text/plain": [
       "'\\nFrom the sample data the correlation coefficient of 0.7 indicates that the there is 70% strong positive relationship between SAT scores and college GPA. \\nIt means that as the SAT scores of students increase, their college GPAs tend to increase as well.\\nThis is with respect to the observation from sample data but we cant conclude for whole population. To conclude we will need to take few more samples and then can be conclued on the basis of the average value we observed.\\nEven though if we had the same observation we can not conclude that the studen with high SAT score will tend to score heigher GPA score. We should be considering other factors like student study duaration & pattern, routine, collage teachings etc. \\n\\n'"
      ]
     },
     "execution_count": 2,
     "metadata": {},
     "output_type": "execute_result"
    }
   ],
   "source": [
    "# Answer 1:\n",
    "\"\"\"\n",
    "From the sample data the correlation coefficient of 0.7 indicates that the there is 70% strong positive relationship between SAT scores and college GPA. \n",
    "It means that as the SAT scores of students increase, their college GPAs tend to increase as well.\n",
    "This is with respect to the observation from sample data but we cant conclude for whole population. To conclude we will need to take few more samples and then can be conclued on the basis of the average value we observed.\n",
    "Even though if we had the same observation we can not conclude that the studen with high SAT score will tend to score heigher GPA score. We should be considering other factors like student study duaration & pattern, routine, collage teachings etc. \n",
    "\n",
    "\"\"\""
   ]
  },
  {
   "attachments": {},
   "cell_type": "markdown",
   "metadata": {},
   "source": [
    "2. Consider a dataset containing the heights (in centimeters) of 1000 individuals. The\n",
    "mean height is 170 cm with a standard deviation of 10 cm. The dataset is approximately\n",
    "normally distributed, and its skewness is approximately zero. Based on this information,\n",
    "answer the following questions:\n",
    "\n",
    "a. What percentage of individuals in the dataset have heights between 160 cm\n",
    "and 180 cm?\n",
    "\n",
    "b. If we randomly select 100 individuals from the dataset, what is the probability\n",
    "that their average height is greater than 175 cm?\n",
    "\n",
    "c. Assuming the dataset follows a normal distribution, what is the z-score\n",
    "corresponding to a height of 185 cm?\n",
    "\n",
    "d. We know that 5% of the dataset has heights below a certain value. What is\n",
    "the approximate height corresponding to this threshold?\n",
    "\n",
    "e. Calculate the coefficient of variation (CV) for the dataset.\n",
    "\n",
    "f. Calculate the skewness of the dataset and interpret the result."
   ]
  },
  {
   "cell_type": "code",
   "execution_count": 2,
   "metadata": {},
   "outputs": [],
   "source": [
    "# Given\n",
    "sample_mean = 170\n",
    "std_val = 10\n",
    "sample_size = 1000\n",
    "skewness = 0 "
   ]
  },
  {
   "cell_type": "code",
   "execution_count": 3,
   "metadata": {},
   "outputs": [
    {
     "name": "stdout",
     "output_type": "stream",
     "text": [
      "z score for 160:  -1.0\n",
      "z score for 180:  1.0\n",
      "The Z SCORE FOR 160 is 0.1587 i.e 15.87%\n",
      "The Z SCORE FOR 180 0.8413 i.e 84.13%\n",
      "Percentage of data under range 160-180 is :  68.26 %\n"
     ]
    }
   ],
   "source": [
    "#  Answer 1:\n",
    "zsocre_160 = (160-sample_mean)/std_val\n",
    "zsocre_180 = (180-sample_mean)/std_val\n",
    "print(\"z score for 160: \", zsocre_160)\n",
    "print(\"z score for 180: \", zsocre_180)\n",
    "# values that comes\n",
    "# getting values from z table\n",
    "print(\"The Z SCORE FOR 160 is 0.1587 i.e 15.87%\")\n",
    "print(\"The Z SCORE FOR 180 0.8413 i.e 84.13%\")\n",
    "\n",
    "print(\"Percentage of data under range 160-180 is : \", round(84.13-15.87, 3) , \"%\"  )"
   ]
  },
  {
   "cell_type": "code",
   "execution_count": null,
   "metadata": {},
   "outputs": [],
   "source": []
  },
  {
   "cell_type": "code",
   "execution_count": null,
   "metadata": {},
   "outputs": [],
   "source": []
  },
  {
   "attachments": {},
   "cell_type": "markdown",
   "metadata": {},
   "source": [
    "A factory produces light bulbs, and the probability of a bulb being defective is 0.05.\n",
    "The factory produces a large batch of 500 light bulbs.\n",
    "\n",
    "a. What is the probability that exactly 20 bulbs are defective?\n",
    "\n",
    "b. What is the probability that at least 10 bulbs are defective?\n",
    "\n",
    "c. What is the probability that at max 15 bulbs are defective?\n",
    "\n",
    "d. On average, how many defective bulbs would you expect in a batch of 500?"
   ]
  },
  {
   "cell_type": "code",
   "execution_count": 14,
   "metadata": {},
   "outputs": [
    {
     "name": "stdout",
     "output_type": "stream",
     "text": [
      "The probability that exactly 20 bulbs are defective is :  5.161619253663996 %\n"
     ]
    }
   ],
   "source": [
    "# a. The probability that exactly 20 bulbs are defective is:\n",
    "#given\n",
    "n = 500\n",
    "k = 20\n",
    "p = 0.05\n",
    "\n",
    "# Using binomial formula =  nCk * p^k * (1-p)^(n-k)\n",
    "import math\n",
    "nCk = math.comb(n, k)\n",
    "prob = (p ** k) * ((1 - p) ** (n - k))\n",
    "result = nCk * prob\n",
    "\n",
    "print(\"The probability that exactly 20 bulbs are defective is : \",result*100 ,\"%\")\n"
   ]
  },
  {
   "cell_type": "code",
   "execution_count": null,
   "metadata": {},
   "outputs": [],
   "source": [
    "# b. The probability that at least 10 bulbs are defective :\n",
    "\n",
    "1 - P()\n",
    "\n"
   ]
  },
  {
   "cell_type": "code",
   "execution_count": null,
   "metadata": {},
   "outputs": [],
   "source": []
  },
  {
   "cell_type": "code",
   "execution_count": null,
   "metadata": {},
   "outputs": [],
   "source": []
  },
  {
   "cell_type": "code",
   "execution_count": null,
   "metadata": {},
   "outputs": [],
   "source": []
  },
  {
   "cell_type": "code",
   "execution_count": null,
   "metadata": {},
   "outputs": [],
   "source": []
  }
 ],
 "metadata": {
  "kernelspec": {
   "display_name": "base",
   "language": "python",
   "name": "python3"
  },
  "language_info": {
   "codemirror_mode": {
    "name": "ipython",
    "version": 3
   },
   "file_extension": ".py",
   "mimetype": "text/x-python",
   "name": "python",
   "nbconvert_exporter": "python",
   "pygments_lexer": "ipython3",
   "version": "3.9.12"
  },
  "orig_nbformat": 4
 },
 "nbformat": 4,
 "nbformat_minor": 2
}
